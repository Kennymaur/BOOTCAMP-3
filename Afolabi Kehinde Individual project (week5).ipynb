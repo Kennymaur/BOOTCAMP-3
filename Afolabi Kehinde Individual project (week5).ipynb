{
 "cells": [
  {
   "cell_type": "code",
   "execution_count": null,
   "id": "7b70c6c4",
   "metadata": {
    "scrolled": true
   },
   "outputs": [],
   "source": [
    "# mortgage calculator\n",
    "#principal_p\n",
    "# percent annual interest_i\n",
    "#year to pay off mortgage_\n",
    "#formula_M = P[i(1+i)**n]/[(1+i)**n-1]\n",
    "# display monthly payment\n",
    "# display total monthly payment $699.21 \n",
    "#Total amount paid will be $251,717.22\n",
    "\n",
    "\n",
    "user_name= input('please enter your name: ')\n",
    "total_amount_of_loan = int(input('please the amount_of_loan: '))\n",
    "p =(total_amount_of_loan) \n",
    "interest_rate_percentage= input('please enter the interest_rate: ')\n",
    "i= float(interest_rate_percentage)/1200\n",
    "print(f'interest_rate_percentage = {i:.5f}')\n",
    "years =  int(input('please  enter the number_of_years: '))\n",
    "total_number_of_months= 12*years\n",
    "n=total_number_of_months\n",
    "print(f'total_number_of_months = {total_number_of_months}')\n",
    "\n",
    "total_amount_of_loan==p and interest_rate_percentage==i and total_number_of_months==n \n",
    "\n",
    "total_monthly_payment=p*(i*(1+i)**(n))/((1+i)**n-1)\n",
    "         \n",
    "print(f' total_monthly_payment= ${total_monthly_payment:.2f}')\n",
    "\n",
    "total_amount= 12*30*total_monthly_payment\n",
    "print(f' total_amount  you will pay = ${total_amount:.2f}')\n",
    "\n",
    "\n"
   ]
  },
  {
   "cell_type": "code",
   "execution_count": null,
   "id": "2406cf99",
   "metadata": {},
   "outputs": [],
   "source": [
    "\n",
    "\n"
   ]
  },
  {
   "cell_type": "code",
   "execution_count": null,
   "id": "fff6bc36",
   "metadata": {},
   "outputs": [],
   "source": [
    "\n"
   ]
  },
  {
   "cell_type": "code",
   "execution_count": null,
   "id": "3ceecc7c",
   "metadata": {},
   "outputs": [],
   "source": []
  },
  {
   "cell_type": "code",
   "execution_count": null,
   "id": "6a173528",
   "metadata": {},
   "outputs": [],
   "source": []
  },
  {
   "cell_type": "code",
   "execution_count": null,
   "id": "2e2b2616",
   "metadata": {},
   "outputs": [],
   "source": []
  }
 ],
 "metadata": {
  "kernelspec": {
   "display_name": "Python 3 (ipykernel)",
   "language": "python",
   "name": "python3"
  },
  "language_info": {
   "codemirror_mode": {
    "name": "ipython",
    "version": 3
   },
   "file_extension": ".py",
   "mimetype": "text/x-python",
   "name": "python",
   "nbconvert_exporter": "python",
   "pygments_lexer": "ipython3",
   "version": "3.9.13"
  }
 },
 "nbformat": 4,
 "nbformat_minor": 5
}
